{
  "nbformat": 4,
  "nbformat_minor": 0,
  "metadata": {
    "colab": {
      "name": "Untitled14.ipynb",
      "version": "0.3.2",
      "provenance": [],
      "include_colab_link": true
    },
    "kernelspec": {
      "name": "python3",
      "display_name": "Python 3"
    }
  },
  "cells": [
    {
      "cell_type": "markdown",
      "metadata": {
        "id": "view-in-github",
        "colab_type": "text"
      },
      "source": [
        "<a href=\"https://colab.research.google.com/github/anassboussarhan/projet/blob/master/Untitled14.ipynb\" target=\"_parent\"><img src=\"https://colab.research.google.com/assets/colab-badge.svg\" alt=\"Open In Colab\"/></a>"
      ]
    },
    {
      "cell_type": "code",
      "metadata": {
        "id": "BRP8xWyY9quO",
        "colab_type": "code",
        "colab": {}
      },
      "source": [
        "import requests\n",
        "from requests.auth import HTTPBasicAuth\n",
        "link1=\"https://img.lotlinx.com/vdn/7416/jeep_wrangler%20unlimited_2014_1C4BJWFG3EL326863_7416_339187295.jpg\"\n",
        "link2=\"https://img.lotlinx.com/vdn/7416/jeep_wrangler%20unlimited_2014_1C4BJWFG3EL326863_7416_2_339187295.jpg\"\n",
        "link3=\"https://img.lotlinx.com/vdn/7416/jeep_wrangler%20unlimited_2014_1C4BJWFG3EL326863_7416_3_339187295.jpg\"\n",
        "link4=\"https://img.lotlinx.com/vdn/7416/jeep_wrangler%20unlimited_2014_1C4BJWFG3EL326863_7416_4_339187295.jpg\"\n",
        "link5=\"https://img.lotlinx.com/vdn/7416/jeep_wrangler%20unlimited_2014_1C4BJWFG3EL326863_7416_5_339187295.jpg\"\n",
        "hostname=\"https://api.lotlinx.com/photoai/v1\"\n",
        "user=\"testaccount3\" \n",
        "password=\"bbf979ab9188\"\n"
      ],
      "execution_count": 0,
      "outputs": []
    },
    {
      "cell_type": "code",
      "metadata": {
        "id": "Fmh7YU2QA_8r",
        "colab_type": "code",
        "colab": {}
      },
      "source": [
        "task={\n",
        "    \"values\":[\n",
        "        {\n",
        "            \"dealerId\":\"20182018\",\n",
        "            \"vehicleImageSets\":[\n",
        "                {\n",
        "                    \"id\": 123,\n",
        "                    \"imageSet\":[\n",
        "                        {\n",
        "                            \"imageId\":0,\n",
        "                            \"imageUrl\":link1\n",
        "                            \n",
        "                        },\n",
        "                                                {\n",
        "                            \"imageId\":1,\n",
        "                            \"imageUrl\":link2\n",
        "                            \n",
        "                        },\n",
        "                        {\n",
        "                            \"imageId\":2,\n",
        "                            \"imageUrl\":link3\n",
        "                            \n",
        "                        },\n",
        "                        {\n",
        "                            \"imageId\":3,\n",
        "                            \"imageUrl\":link4\n",
        "                            \n",
        "                        },\n",
        "                        {\n",
        "                            \"imageId\":4,\n",
        "                            \"imageUrl\":link5\n",
        "                            \n",
        "                        }\n",
        "\n",
        "                        \n",
        "                    ]\n",
        "                    \n",
        "                }\n",
        "            ]\n",
        "        }\n",
        "    ]\n",
        "    \n",
        "}"
      ],
      "execution_count": 0,
      "outputs": []
    },
    {
      "cell_type": "code",
      "metadata": {
        "id": "iLxEso9eDD6R",
        "colab_type": "code",
        "colab": {}
      },
      "source": [
        "resp=requests.post(hostname+\"/optimize\", json=task, auth=HTTPBasicAuth(user, password))"
      ],
      "execution_count": 0,
      "outputs": []
    },
    {
      "cell_type": "code",
      "metadata": {
        "id": "QS47KNihDeKW",
        "colab_type": "code",
        "outputId": "bd967d8b-2fe1-4235-9886-a272614a70a0",
        "colab": {
          "base_uri": "https://localhost:8080/",
          "height": 34
        }
      },
      "source": [
        "print(resp.content)"
      ],
      "execution_count": 42,
      "outputs": [
        {
          "output_type": "stream",
          "text": [
            "b'{\"values\":[{\"token\":\"gDuTY0PEsDN7wsUPqnNc6dzlC7qJKFThW0gdc5ZhpqKqplGj3qaD6hgua1xenVqc\",\"status\":\"queued\"}]}'\n"
          ],
          "name": "stdout"
        }
      ]
    },
    {
      "cell_type": "code",
      "metadata": {
        "id": "jY_Gb1FnJSLm",
        "colab_type": "code",
        "outputId": "1fa69430-79ea-413c-dc8d-134989831fca",
        "colab": {
          "base_uri": "https://localhost:8080/",
          "height": 34
        }
      },
      "source": [
        "status=requests.get(hostname+\"/optimize/gDuTY0PEsDN7wsUPqnNc6dzlC7qJKFThW0gdc5ZhpqKqplGj3qaD6hgua1xenVqc/status\",auth=HTTPBasicAuth(user, password))\n",
        "print(status.content)"
      ],
      "execution_count": 43,
      "outputs": [
        {
          "output_type": "stream",
          "text": [
            "b'{\"values\":[{\"token\":\"gDuTY0PEsDN7wsUPqnNc6dzlC7qJKFThW0gdc5ZhpqKqplGj3qaD6hgua1xenVqc\",\"status\":\"queued\"}]}'\n"
          ],
          "name": "stdout"
        }
      ]
    },
    {
      "cell_type": "code",
      "metadata": {
        "id": "c7GELXJBNCkk",
        "colab_type": "code",
        "colab": {
          "base_uri": "https://localhost:8080/",
          "height": 34
        },
        "outputId": "71e1fe4e-c8f0-4c33-c96b-b9a029dd85e6"
      },
      "source": [
        "finalResp=requests.get(hostname+\"/optimize/16JkWnQlhxbWuNmbqwdlqzkn2uFfJKFSeII2hPjt2j9YN1eoaOs50Irlxfpx1jrf\",auth=HTTPBasicAuth(user, password))\n",
        "print(finalResp.content)"
      ],
      "execution_count": 15,
      "outputs": [
        {
          "output_type": "stream",
          "text": [
            "b'{\"code\":404,\"message\":\"Token 16JkWnQlhxbWuNmbqwdlqzkn2uFfJKFSeII2hPjt2j9YN1eoaOs50Irlxfpx1jrf could not be found\"}'\n"
          ],
          "name": "stdout"
        }
      ]
    }
  ]
}